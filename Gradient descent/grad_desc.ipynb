{
 "cells": [
  {
   "attachments": {},
   "cell_type": "markdown",
   "metadata": {},
   "source": [
    "# Gradient descent on an advertising dataset\n",
    "For this implementation, we are going to use the advertising dataset. This is a dataset that gives us the total sales for different products, after marketing them on Television, Radio and Newspaper. Using our algorithm, we can find out which medium performs the best for our sales and assign weights to all the mediums accordingly. This dataset can be downloaded from the link given below:\n",
    "\n",
    "https://www.kaggle.com/sazid28/advertising.csv"
   ]
  },
  {
   "cell_type": "code",
   "execution_count": 79,
   "metadata": {},
   "outputs": [],
   "source": [
    "import pandas as pd\n",
    "import numpy as np\n",
    "import matplotlib.pyplot as plt\n",
    "import seaborn as sb"
   ]
  },
  {
   "cell_type": "code",
   "execution_count": 80,
   "metadata": {},
   "outputs": [
    {
     "data": {
      "text/html": [
       "<div>\n",
       "<style scoped>\n",
       "    .dataframe tbody tr th:only-of-type {\n",
       "        vertical-align: middle;\n",
       "    }\n",
       "\n",
       "    .dataframe tbody tr th {\n",
       "        vertical-align: top;\n",
       "    }\n",
       "\n",
       "    .dataframe thead th {\n",
       "        text-align: right;\n",
       "    }\n",
       "</style>\n",
       "<table border=\"1\" class=\"dataframe\">\n",
       "  <thead>\n",
       "    <tr style=\"text-align: right;\">\n",
       "      <th></th>\n",
       "      <th>Unnamed: 0</th>\n",
       "      <th>TV</th>\n",
       "      <th>radio</th>\n",
       "      <th>newspaper</th>\n",
       "      <th>sales</th>\n",
       "    </tr>\n",
       "  </thead>\n",
       "  <tbody>\n",
       "    <tr>\n",
       "      <th>0</th>\n",
       "      <td>1</td>\n",
       "      <td>230.1</td>\n",
       "      <td>37.8</td>\n",
       "      <td>69.2</td>\n",
       "      <td>22.1</td>\n",
       "    </tr>\n",
       "    <tr>\n",
       "      <th>1</th>\n",
       "      <td>2</td>\n",
       "      <td>44.5</td>\n",
       "      <td>39.3</td>\n",
       "      <td>45.1</td>\n",
       "      <td>10.4</td>\n",
       "    </tr>\n",
       "    <tr>\n",
       "      <th>2</th>\n",
       "      <td>3</td>\n",
       "      <td>17.2</td>\n",
       "      <td>45.9</td>\n",
       "      <td>69.3</td>\n",
       "      <td>9.3</td>\n",
       "    </tr>\n",
       "    <tr>\n",
       "      <th>3</th>\n",
       "      <td>4</td>\n",
       "      <td>151.5</td>\n",
       "      <td>41.3</td>\n",
       "      <td>58.5</td>\n",
       "      <td>18.5</td>\n",
       "    </tr>\n",
       "    <tr>\n",
       "      <th>4</th>\n",
       "      <td>5</td>\n",
       "      <td>180.8</td>\n",
       "      <td>10.8</td>\n",
       "      <td>58.4</td>\n",
       "      <td>12.9</td>\n",
       "    </tr>\n",
       "  </tbody>\n",
       "</table>\n",
       "</div>"
      ],
      "text/plain": [
       "   Unnamed: 0     TV  radio  newspaper  sales\n",
       "0           1  230.1   37.8       69.2   22.1\n",
       "1           2   44.5   39.3       45.1   10.4\n",
       "2           3   17.2   45.9       69.3    9.3\n",
       "3           4  151.5   41.3       58.5   18.5\n",
       "4           5  180.8   10.8       58.4   12.9"
      ]
     },
     "execution_count": 80,
     "metadata": {},
     "output_type": "execute_result"
    }
   ],
   "source": [
    "df = pd.read_csv('Advertising.csv')\n",
    "df.head()"
   ]
  },
  {
   "attachments": {},
   "cell_type": "markdown",
   "metadata": {},
   "source": [
    "X would represent TV, Radio and Newspaper while Y would represent our sales. As all these sales might be on different scales, we then normalise our X & Y variables."
   ]
  },
  {
   "cell_type": "code",
   "execution_count": 81,
   "metadata": {},
   "outputs": [],
   "source": [
    "X =  df[['TV', 'radio', 'newspaper']]\n",
    "Y = df['sales']\n",
    "X = X.apply(lambda rec: (rec-rec.mean())/rec.std(), axis=0)\n",
    "Y = np.array((Y-Y.mean()/Y.std()))"
   ]
  },
  {
   "attachments": {},
   "cell_type": "markdown",
   "metadata": {},
   "source": [
    "Once we have a normalised dataset, we can start defining our algorithm. To implement a gradient descent algorithm we need to follow 4 steps:\n",
    "\n",
    "- Randomly initialize the bias and the weight theta\n",
    "- Calculate predicted value of y that is Y given the bias and the weight\n",
    "- Calculate the cost function from predicted and actual values of Y\n",
    "- Calculate gradient and the weights\n",
    "\n",
    "\n",
    "To start, we will take a random value for bias and weights, which might be actually close to the optimal bias and weights or can be far off."
   ]
  },
  {
   "cell_type": "code",
   "execution_count": 82,
   "metadata": {},
   "outputs": [
    {
     "name": "stdout",
     "output_type": "stream",
     "text": [
      "Bias: 0.6331956556177939, Weights: [0.30935412 0.08048335 0.66905751].\n"
     ]
    }
   ],
   "source": [
    "import random\n",
    "\n",
    "def initialize(dim):\n",
    "    b = random.random()\n",
    "    theta = np.random.rand(dim)\n",
    "    return b, theta \n",
    "\n",
    "b, theta = initialize(3)\n",
    "print(f\"Bias: {b}, Weights: {theta}.\")"
   ]
  },
  {
   "attachments": {},
   "cell_type": "markdown",
   "metadata": {},
   "source": [
    "The next step is to calculate the output (Y) using these weights and bias."
   ]
  },
  {
   "cell_type": "code",
   "execution_count": 83,
   "metadata": {},
   "outputs": [
    {
     "data": {
      "text/plain": [
       "array([ 2.19850848,  0.79750476,  1.47835846,  1.6055534 ,  1.54271846,\n",
       "        1.63910239,  0.14554089, -0.06566957, -0.88829905,  0.42391342])"
      ]
     },
     "execution_count": 83,
     "metadata": {},
     "output_type": "execute_result"
    }
   ],
   "source": [
    "def prediction_Y(b, theta, X):\n",
    "    return b + np.dot(X, theta)\n",
    "\n",
    "Y_hat = prediction_Y(b, theta, X)\n",
    "Y_hat[0:10]"
   ]
  },
  {
   "attachments": {},
   "cell_type": "markdown",
   "metadata": {},
   "source": [
    "Y_hat is the predicted output value whereas Y will be the actual value. The difference between these will give us our cost function. Which will be calculate in our next function."
   ]
  },
  {
   "cell_type": "code",
   "execution_count": 84,
   "metadata": {},
   "outputs": [
    {
     "data": {
      "text/plain": [
       "137.64313051550525"
      ]
     },
     "execution_count": 84,
     "metadata": {},
     "output_type": "execute_result"
    }
   ],
   "source": [
    "def get_cost(Y, Y_hat):\n",
    "    Y_resd = Y - Y_hat \n",
    "    return np.sum(np.dot(Y_resd.T, Y_resd))/len(Y-Y_resd)\n",
    "\n",
    "Y_hat = prediction_Y(b, theta, X)\n",
    "get_cost(Y, Y_hat)"
   ]
  },
  {
   "attachments": {},
   "cell_type": "markdown",
   "metadata": {},
   "source": [
    "This is our cost function, and our aim is to reduce this as much as possible to get the most accurate predictions. To get the updated bias and weights we use the gradient descent formula\n",
    "The parameters passed to the function are\n",
    "\n",
    "- x,y : the input and output variable\n",
    "- y_hat: predicted value with current bias and weights\n",
    "- b_0,theta_0: current bias and weights\n",
    "- Learning rate: learning rate to adjust the update step"
   ]
  },
  {
   "cell_type": "code",
   "execution_count": 85,
   "metadata": {},
   "outputs": [
    {
     "name": "stdout",
     "output_type": "stream",
     "text": [
      "After initialization-  Bias: 0.6331956556177939, theta [0.30935412 0.08048335 0.66905751]\n",
      "After first update-  Bias: 0.6545990398754986, Theta: [0.31677594 0.08580076 0.67000487]\n"
     ]
    },
    {
     "data": {
      "text/plain": [
       "137.64313051550525"
      ]
     },
     "execution_count": 85,
     "metadata": {},
     "output_type": "execute_result"
    }
   ],
   "source": [
    "def update_theta(x,y,y_hat,b_0, theta_0, learning_rate):\n",
    "    db=(np.sum(y_hat-y)*2)/len(y)\n",
    "    dw=(np.dot((y_hat-y),x)*2)/len(y)\n",
    "    b_1=b_0-learning_rate*db\n",
    "    theta_1=theta_0-learning_rate*dw\n",
    "    return b_1,theta_1\n",
    "print(f\"After initialization-  Bias: {b}, theta {theta}\")\n",
    "y_hat = prediction_Y(b, theta, X)\n",
    "b, theta = update_theta(X,Y,Y_hat,b,theta,0.001)\n",
    "print(f\"After first update-  Bias: {b}, Theta: {theta}\")\n",
    "get_cost(Y, Y_hat)"
   ]
  },
  {
   "attachments": {},
   "cell_type": "markdown",
   "metadata": {},
   "source": [
    "we can create a main gradient descent function, which runs them for a particular number of iteration and finds us optimal bias and weights. For this implementation, we are running the function for 200 iterations."
   ]
  },
  {
   "cell_type": "code",
   "execution_count": 89,
   "metadata": {},
   "outputs": [
    {
     "name": "stdout",
     "output_type": "stream",
     "text": [
      "Final estimate of b and theta: 11.33140335454088, [ 3.92793733  2.78925997 -0.01250377]\n"
     ]
    }
   ],
   "source": [
    "def run_gradient_descent(X, Y, alpha, num_iterations):\n",
    "    b, theta = initialize(X.shape[1])\n",
    "    iter_num = 0\n",
    "    gd_iterations_df = pd.DataFrame(columns=['iteration', 'cost'])\n",
    "    result_idx = 0\n",
    "    for each_iter in range(num_iterations):\n",
    "        Y_hat = prediction_Y(b, theta, X)\n",
    "        this_cost = get_cost(Y, Y_hat)\n",
    "        prev_b = b\n",
    "        prev_theta = theta\n",
    "        b, theta = update_theta(X,Y,Y_hat, prev_b, prev_theta, alpha)\n",
    "        if (iter_num % 10 == 0):\n",
    "            gd_iterations_df.loc[result_idx] = [iter_num, this_cost]\n",
    "            result_idx += 1\n",
    "        iter_num += 1\n",
    "    print(f\"Final estimate of b and theta: {b}, {theta}\")\n",
    "    return gd_iterations_df, b, theta\n",
    "gd_iterations_df, b, theta = run_gradient_descent(X, Y, alpha=0.001, num_iterations=4000)\n",
    "            "
   ]
  },
  {
   "cell_type": "code",
   "execution_count": 90,
   "metadata": {},
   "outputs": [
    {
     "data": {
      "text/html": [
       "<div>\n",
       "<style scoped>\n",
       "    .dataframe tbody tr th:only-of-type {\n",
       "        vertical-align: middle;\n",
       "    }\n",
       "\n",
       "    .dataframe tbody tr th {\n",
       "        vertical-align: top;\n",
       "    }\n",
       "\n",
       "    .dataframe thead th {\n",
       "        text-align: right;\n",
       "    }\n",
       "</style>\n",
       "<table border=\"1\" class=\"dataframe\">\n",
       "  <thead>\n",
       "    <tr style=\"text-align: right;\">\n",
       "      <th></th>\n",
       "      <th>iteration</th>\n",
       "      <th>cost</th>\n",
       "    </tr>\n",
       "  </thead>\n",
       "  <tbody>\n",
       "    <tr>\n",
       "      <th>390</th>\n",
       "      <td>3900.0</td>\n",
       "      <td>2.784311</td>\n",
       "    </tr>\n",
       "    <tr>\n",
       "      <th>391</th>\n",
       "      <td>3910.0</td>\n",
       "      <td>2.784306</td>\n",
       "    </tr>\n",
       "    <tr>\n",
       "      <th>392</th>\n",
       "      <td>3920.0</td>\n",
       "      <td>2.784301</td>\n",
       "    </tr>\n",
       "    <tr>\n",
       "      <th>393</th>\n",
       "      <td>3930.0</td>\n",
       "      <td>2.784296</td>\n",
       "    </tr>\n",
       "    <tr>\n",
       "      <th>394</th>\n",
       "      <td>3940.0</td>\n",
       "      <td>2.784292</td>\n",
       "    </tr>\n",
       "    <tr>\n",
       "      <th>395</th>\n",
       "      <td>3950.0</td>\n",
       "      <td>2.784287</td>\n",
       "    </tr>\n",
       "    <tr>\n",
       "      <th>396</th>\n",
       "      <td>3960.0</td>\n",
       "      <td>2.784283</td>\n",
       "    </tr>\n",
       "    <tr>\n",
       "      <th>397</th>\n",
       "      <td>3970.0</td>\n",
       "      <td>2.784279</td>\n",
       "    </tr>\n",
       "    <tr>\n",
       "      <th>398</th>\n",
       "      <td>3980.0</td>\n",
       "      <td>2.784275</td>\n",
       "    </tr>\n",
       "    <tr>\n",
       "      <th>399</th>\n",
       "      <td>3990.0</td>\n",
       "      <td>2.784271</td>\n",
       "    </tr>\n",
       "  </tbody>\n",
       "</table>\n",
       "</div>"
      ],
      "text/plain": [
       "     iteration      cost\n",
       "390     3900.0  2.784311\n",
       "391     3910.0  2.784306\n",
       "392     3920.0  2.784301\n",
       "393     3930.0  2.784296\n",
       "394     3940.0  2.784292\n",
       "395     3950.0  2.784287\n",
       "396     3960.0  2.784283\n",
       "397     3970.0  2.784279\n",
       "398     3980.0  2.784275\n",
       "399     3990.0  2.784271"
      ]
     },
     "execution_count": 90,
     "metadata": {},
     "output_type": "execute_result"
    }
   ],
   "source": [
    "gd_iterations_df.tail(10)"
   ]
  },
  {
   "attachments": {},
   "cell_type": "markdown",
   "metadata": {},
   "source": [
    "We can also plot the cost function to iterations to see the result."
   ]
  },
  {
   "cell_type": "code",
   "execution_count": 91,
   "metadata": {},
   "outputs": [
    {
     "data": {
      "text/plain": [
       "Text(0, 0.5, 'Cost or MSE')"
      ]
     },
     "execution_count": 91,
     "metadata": {},
     "output_type": "execute_result"
    },
    {
     "data": {
      "image/png": "[encoded data removed]",
      "text/plain": [
       "<Figure size 640x480 with 1 Axes>"
      ]
     },
     "metadata": {},
     "output_type": "display_data"
    }
   ],
   "source": [
    "# % matplotlib inline\n",
    "plt.plot(gd_iterations_df['iteration'],gd_iterations_df['cost'])\n",
    "plt.xlabel('Number of iterations')\n",
    "plt.ylabel('Cost or MSE')"
   ]
  },
  {
   "attachments": {},
   "cell_type": "markdown",
   "metadata": {},
   "source": [
    "let’s try with α=0.01 for 2000 iterations and compare it with α=0.001 and find which learning rate is better for this dataset."
   ]
  },
  {
   "cell_type": "code",
   "execution_count": 92,
   "metadata": {},
   "outputs": [
    {
     "name": "stdout",
     "output_type": "stream",
     "text": [
      "Final estimate of b and theta: 11.334887784470087, [ 3.92908869  2.79906919 -0.02259517]\n",
      "Final estimate of b and theta: 11.14476729844773, [3.86433745 2.71152513 0.07122818]\n"
     ]
    },
    {
     "data": {
      "text/plain": [
       "Text(0.5, 1.0, 'Cost Vs. Iterations for different alpha values')"
      ]
     },
     "execution_count": 92,
     "metadata": {},
     "output_type": "execute_result"
    },
    {
     "data": {
      "image/png": "[encoded data removed]",
      "text/plain": [
       "<Figure size 640x480 with 1 Axes>"
      ]
     },
     "metadata": {},
     "output_type": "display_data"
    }
   ],
   "source": [
    "alpha_df_1, b, theta = run_gradient_descent(X,Y,alpha=0.01, num_iterations=2000)\n",
    "alpha_df_2, b, theta = run_gradient_descent(X,Y,alpha=0.001, num_iterations=2000)\n",
    "\n",
    "plt.plot(alpha_df_1['iteration'], alpha_df_1['cost'], label=\"alpha=0.01\")\n",
    "plt.plot(alpha_df_2['iteration'], alpha_df_2['cost'], label=\"alpha=0.001\")\n",
    "plt.legend()\n",
    "plt.ylabel('cost')\n",
    "plt.xlabel('Number of iterations')\n",
    "plt.title('Cost Vs. Iterations for different alpha values')"
   ]
  }
 ],
 "metadata": {
  "kernelspec": {
   "display_name": "Python 3",
   "language": "python",
   "name": "python3"
  },
  "language_info": {
   "codemirror_mode": {
    "name": "ipython",
    "version": 3
   },
   "file_extension": ".py",
   "mimetype": "text/x-python",
   "name": "python",
   "nbconvert_exporter": "python",
   "pygments_lexer": "ipython3",
   "version": "3.11.2"
  },
  "orig_nbformat": 4
 },
 "nbformat": 4,
 "nbformat_minor": 2
}
